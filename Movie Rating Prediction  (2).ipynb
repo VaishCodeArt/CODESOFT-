{
 "cells": [
  {
   "cell_type": "code",
   "execution_count": 11,
   "id": "77e8fe5c-bb59-4f6d-8c52-11f18ae388e4",
   "metadata": {},
   "outputs": [],
   "source": [
    "import pandas as pd\n",
    "from sklearn.model_selection import train_test_split\n",
    "from sklearn.preprocessing import LabelEncoder\n",
    "from sklearn.ensemble import RandomForestRegressor\n",
    "from sklearn.metrics import mean_squared_error, r2_score\n",
    "\n",
    "df = pd.read_csv(r\"C:\\Users\\Mayank Mathur\\OneDrive\\Desktop\\IMDb Movies India.csv\", encoding='latin1')\n"
   ]
  },
  {
   "cell_type": "code",
   "execution_count": 12,
   "id": "03c02bab-54bc-4c44-92f7-d2a1cebe18cd",
   "metadata": {},
   "outputs": [
    {
     "name": "stdout",
     "output_type": "stream",
     "text": [
      "                                 Name    Year Duration  \\\n",
      "1  #Gadhvi (He thought he was Gandhi)  (2019)  109 min   \n",
      "3                             #Yaaram  (2019)  110 min   \n",
      "5                ...Aur Pyaar Ho Gaya  (1997)  147 min   \n",
      "6                           ...Yahaan  (2005)  142 min   \n",
      "8                  ?: A Question Mark  (2012)   82 min   \n",
      "\n",
      "                       Genre  Rating  Votes        Director          Actor 1  \\\n",
      "1                      Drama     7.0      8   Gaurav Bakshi     Rasika Dugal   \n",
      "3            Comedy, Romance     4.4     35      Ovais Khan          Prateik   \n",
      "5     Comedy, Drama, Musical     4.7    827    Rahul Rawail       Bobby Deol   \n",
      "6        Drama, Romance, War     7.4  1,086  Shoojit Sircar  Jimmy Sheirgill   \n",
      "8  Horror, Mystery, Thriller     5.6    326   Allyson Patel        Yash Dave   \n",
      "\n",
      "                  Actor 2          Actor 3  Genre_enc  Director_enc  \\\n",
      "1          Vivek Ghamande    Arvind Jangid        229           629   \n",
      "3              Ishita Raj  Siddhant Kapoor        184          1335   \n",
      "5  Aishwarya Rai Bachchan    Shammi Kapoor        157          1530   \n",
      "6          Minissha Lamba   Yashpal Sharma        289          2044   \n",
      "8          Muntazir Ahmad     Kiran Bhatia        320           135   \n",
      "\n",
      "   Actor1_enc  Actor2_enc  Actor3_enc  \n",
      "1        1352        2272         319  \n",
      "3        1198         719        2148  \n",
      "5         378          75        2045  \n",
      "6         692        1112        2524  \n",
      "8        1934        1175        1013  \n"
     ]
    }
   ],
   "source": [
    "import pandas as pd\n",
    "from sklearn.preprocessing import LabelEncoder\n",
    "\n",
    "# Read CSV and assign to 'data' instead of 'df'\n",
    "data = pd.read_csv(r\"C:\\Users\\Mayank Mathur\\OneDrive\\Desktop\\IMDb Movies India.csv\", encoding='latin1')\n",
    "\n",
    "# Drop rows with missing values\n",
    "data = data.dropna()\n",
    "\n",
    "# Initialize label encoders\n",
    "le_genre = LabelEncoder()\n",
    "le_director = LabelEncoder()\n",
    "le_actor1 = LabelEncoder()\n",
    "le_actor2 = LabelEncoder()\n",
    "le_actor3 = LabelEncoder()\n",
    "\n",
    "# Apply encoding\n",
    "data['Genre_enc'] = le_genre.fit_transform(data['Genre'])\n",
    "data['Director_enc'] = le_director.fit_transform(data['Director'])\n",
    "data['Actor1_enc'] = le_actor1.fit_transform(data['Actor 1'])\n",
    "data['Actor2_enc'] = le_actor2.fit_transform(data['Actor 2'])\n",
    "data['Actor3_enc'] = le_actor3.fit_transform(data['Actor 3'])\n",
    "\n",
    "# (Optional) Display encoded data\n",
    "print(data.head())\n"
   ]
  },
  {
   "cell_type": "code",
   "execution_count": 13,
   "id": "8dc7c208-1158-4d40-9a96-31f8bfafa892",
   "metadata": {},
   "outputs": [],
   "source": [
    "from sklearn.model_selection import train_test_split\n",
    "\n",
    "# Use correct column names\n",
    "X = data[['Genre_enc', 'Director_enc', 'Actor1_enc', 'Actor2_enc', 'Actor3_enc']]\n",
    "y = data['Rating']  # Ensure 'Rating' is spelled exactly as in your dataset\n",
    "\n",
    "# Split the data\n",
    "X_train, X_test, y_train, y_test = train_test_split(X, y, test_size=0.2, random_state=42)\n"
   ]
  },
  {
   "cell_type": "code",
   "execution_count": 14,
   "id": "a5aa2908-039d-4b3c-aab1-47a72814b1ed",
   "metadata": {},
   "outputs": [],
   "source": [
    "model = RandomForestRegressor(n_estimators=100, random_state=42)\n",
    "model.fit(X_train, y_train)\n",
    "\n",
    "y_pred = model.predict(X_test)"
   ]
  },
  {
   "cell_type": "code",
   "execution_count": 15,
   "id": "d606c4f6-525f-452b-823e-2768981bf66d",
   "metadata": {},
   "outputs": [
    {
     "name": "stdout",
     "output_type": "stream",
     "text": [
      "Mean Squared Error: 1.7472958023928409\n",
      "R2 Score: 0.05640513143196668\n"
     ]
    }
   ],
   "source": [
    "mse = mean_squared_error(y_test, y_pred)\n",
    "r2 = r2_score(y_test, y_pred)\n",
    "\n",
    "print(f'Mean Squared Error: {mse}')\n",
    "print(f'R2 Score: {r2}')"
   ]
  },
  {
   "cell_type": "code",
   "execution_count": 16,
   "id": "8348319b-a7c0-4901-81f1-cc86a9afad19",
   "metadata": {},
   "outputs": [
    {
     "name": "stdout",
     "output_type": "stream",
     "text": [
      "Prediction skipped due to unknown label(s).\n"
     ]
    }
   ],
   "source": [
    "def safe_transform(le, value):\n",
    "    if value in le.classes_:\n",
    "        return le.transform([value])[0]\n",
    "    else:\n",
    "        return -1  # or use np.nan if you plan to handle missing values\n",
    "\n",
    "test_movie = pd.DataFrame({\n",
    "    'Genre_enc': [safe_transform(le_genre, 'Action')],\n",
    "    'Director_enc': [safe_transform(le_director, 'Some Director')],\n",
    "    'Actor1_enc': [safe_transform(le_actor1, 'Some Actor 1')],\n",
    "    'Actor2_enc': [safe_transform(le_actor2, 'Some Actor 2')],\n",
    "    'Actor3_enc': [safe_transform(le_actor3, 'Some Actor 3')],\n",
    "})\n",
    "\n",
    "# Predict only if all values are valid (optional safety check)\n",
    "if -1 not in test_movie.values:\n",
    "    predicted_rating = model.predict(test_movie)\n",
    "    print(f'Predicted Rating: {predicted_rating[0]:.2f}')\n",
    "else:\n",
    "    print(\"Prediction skipped due to unknown label(s).\")\n"
   ]
  },
  {
   "cell_type": "code",
   "execution_count": null,
   "id": "1548a20f-40b0-4502-bc17-83017ae1bf63",
   "metadata": {},
   "outputs": [],
   "source": []
  }
 ],
 "metadata": {
  "kernelspec": {
   "display_name": "Python 3 (ipykernel)",
   "language": "python",
   "name": "python3"
  },
  "language_info": {
   "codemirror_mode": {
    "name": "ipython",
    "version": 3
   },
   "file_extension": ".py",
   "mimetype": "text/x-python",
   "name": "python",
   "nbconvert_exporter": "python",
   "pygments_lexer": "ipython3",
   "version": "3.12.7"
  }
 },
 "nbformat": 4,
 "nbformat_minor": 5
}
